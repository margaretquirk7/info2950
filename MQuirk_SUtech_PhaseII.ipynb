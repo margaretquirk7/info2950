{
 "cells": [
  {
   "cell_type": "code",
   "execution_count": 10,
   "id": "cf4b4fed",
   "metadata": {},
   "outputs": [
    {
     "name": "stdout",
     "output_type": "stream",
     "text": [
      "The sql extension is already loaded. To reload it, use:\n",
      "  %reload_ext sql\n"
     ]
    }
   ],
   "source": [
    "#import packages\n",
    "import numpy as np\n",
    "import pandas as pd\n",
    "\n",
    "import seaborn as sns\n",
    "from matplotlib import pyplot as plt\n",
    "\n",
    "import duckdb, sqlalchemy\n",
    "\n",
    "%load_ext sql\n",
    "\n",
    "%config SqlMagic.autopandas = True\n",
    "%config SqlMagic.feedback = False\n",
    "%config SqlMagic.displaycon = False\n",
    "\n",
    "%sql duckdb:///:memory:"
   ]
  },
  {
   "cell_type": "markdown",
   "id": "62be322c",
   "metadata": {},
   "source": [
    "## Research Questions\n",
    "\n",
    "1. Which variables have the most significant impact on academic performance? Is it alcohol consumption as suggested by the title of the dataset or another variable? \n",
    "2. On the other hand, what is the impact (if any) of address, parental marital status, family relationships, and/or romantic relationships on alcohol consumption?\n",
    "3. The dataset summary indicates that due to high correlation, it is incredibly difficult to predict a student's final grade without knowing their first and second period grades. Can we build a model that accurately predicts final grades that does not include the first or second period grades?\n",
    "4. For all of the above questions, how do our findings change if we examine the Mathematics and Portuguese datasets separately. Are certain variables, such as alcohol consumption, more likely to affect grades in liberal studies compared to STEM fields or vice versa?"
   ]
  },
  {
   "cell_type": "markdown",
   "id": "293a6bb1",
   "metadata": {},
   "source": [
    "## Data Cleaning\n",
    "In order to simplify the analysis process, we've added a column to each of the initial dataframes called \"Subject\" so that when we combine the dataframes, we can easily identify which data set and subject the information relates to.\n"
   ]
  },
  {
   "cell_type": "code",
   "execution_count": 3,
   "id": "3a47f5e6",
   "metadata": {},
   "outputs": [],
   "source": [
    "#read in csvs\n",
    "math = pd.read_csv(\"Maths.csv\")\n",
    "port = pd.read_csv(\"Portuguese.csv\")\n",
    "#print(math.head())\n",
    "#print(port.head())"
   ]
  },
  {
   "cell_type": "code",
   "execution_count": 8,
   "id": "e3447be7",
   "metadata": {},
   "outputs": [
    {
     "name": "stdout",
     "output_type": "stream",
     "text": [
      "Columns match: proceed\n"
     ]
    }
   ],
   "source": [
    "#add subject column\n",
    "math['Subject'] = \"M\"\n",
    "port['Subject'] = 'P'\n",
    "#print(math.head())\n",
    "#print(port.head())\n",
    "\n",
    "#Check all columns match before concatenation\n",
    "if math.columns.tolist() == port.columns.tolist():\n",
    "    print(\"Columns match: proceed\")\n",
    "    final_df = pd.concat([math,port])\n",
    "    \n",
    "#print(final_df)"
   ]
  },
  {
   "cell_type": "code",
   "execution_count": 5,
   "id": "3a2dc808",
   "metadata": {},
   "outputs": [
    {
     "name": "stdout",
     "output_type": "stream",
     "text": [
      "school\n",
      "Number of nans: 0\n",
      "sex\n",
      "Number of nans: 0\n",
      "age\n",
      "Number of nans: 0\n",
      "address\n",
      "Number of nans: 0\n",
      "famsize\n",
      "Number of nans: 0\n",
      "Pstatus\n",
      "Number of nans: 0\n",
      "Medu\n",
      "Number of nans: 0\n",
      "Fedu\n",
      "Number of nans: 0\n",
      "Mjob\n",
      "Number of nans: 0\n",
      "Fjob\n",
      "Number of nans: 0\n",
      "reason\n",
      "Number of nans: 0\n",
      "guardian\n",
      "Number of nans: 0\n",
      "traveltime\n",
      "Number of nans: 0\n",
      "studytime\n",
      "Number of nans: 0\n",
      "failures\n",
      "Number of nans: 0\n",
      "schoolsup\n",
      "Number of nans: 0\n",
      "famsup\n",
      "Number of nans: 0\n",
      "paid\n",
      "Number of nans: 0\n",
      "activities\n",
      "Number of nans: 0\n",
      "nursery\n",
      "Number of nans: 0\n",
      "higher\n",
      "Number of nans: 0\n",
      "internet\n",
      "Number of nans: 0\n",
      "romantic\n",
      "Number of nans: 0\n",
      "famrel\n",
      "Number of nans: 0\n",
      "freetime\n",
      "Number of nans: 0\n",
      "goout\n",
      "Number of nans: 0\n",
      "Dalc\n",
      "Number of nans: 0\n",
      "Walc\n",
      "Number of nans: 0\n",
      "health\n",
      "Number of nans: 0\n",
      "absences\n",
      "Number of nans: 0\n",
      "G1\n",
      "Number of nans: 0\n",
      "G2\n",
      "Number of nans: 0\n",
      "G3\n",
      "Number of nans: 0\n",
      "Subject\n",
      "Number of nans: 0\n"
     ]
    }
   ],
   "source": [
    "#Check for null values in columns\n",
    "for i in final_df.columns:\n",
    "    print(i)\n",
    "    print(\"Number of nans:\", final_df[i].isnull().sum())"
   ]
  },
  {
   "cell_type": "markdown",
   "id": "8dd2cc27",
   "metadata": {},
   "source": [
    "## Data Description\n",
    "\n",
    "For this project, we've selected the data \"Student Alcohol Consumption\" from data.world which was collected through student surveys at two Portuguese secondary schools. The data provides information on student demographics, family details, social habits, academic performance, and alcohol consumption. This data includes two data sets that each focus on student performance within a specific subject, Mathematics and Portuguese. While the title of the data suggests a significant focus on alcohol consumption, there's over 25 additional columns provided that may also be significant contributors to academic performance.\n",
    "\n",
    "\n",
    "Data source: https://data.world/data-society/student-alcohol-consumption"
   ]
  },
  {
   "cell_type": "markdown",
   "id": "2c3c9871",
   "metadata": {},
   "source": [
    "## Data Limitations\n",
    "\n",
    "No student ids - can't link individual students between datasets\n",
    "\n",
    "Family size column is vague (over or under 3 people)\n",
    "\n",
    "Several columns are ranges from 1-5 with little detail on how students were placed within these categories. \n",
    "\n",
    "In the failures column, if a student has failed more than 3 classes in the past, the value listed is 4 regardless of how many they've failed"
   ]
  },
  {
   "cell_type": "markdown",
   "id": "dd96d5fe",
   "metadata": {},
   "source": [
    "## Exploratory Data Analysis"
   ]
  },
  {
   "cell_type": "code",
   "execution_count": 6,
   "id": "6abb6dce",
   "metadata": {},
   "outputs": [
    {
     "name": "stdout",
     "output_type": "stream",
     "text": [
      "[1 2 5 3 4]\n",
      "[ 6 10 15 11 19  9 12 14 16  5  8 17 18 13 20  7  0  4  1]\n",
      "Returning data to local variable grade_alc\n",
      "    WorkdayConsumption  FinalGrade  Count\n",
      "0                    1           6     14\n",
      "1                    2          10     32\n",
      "2                    1          15     72\n",
      "3                    1          10     95\n",
      "4                    1          11     98\n",
      "..                 ...         ...    ...\n",
      "60                   4           0      3\n",
      "61                   5           9      2\n",
      "62                   5           7      1\n",
      "63                   5           6      1\n",
      "64                   3          18      1\n",
      "\n",
      "[65 rows x 3 columns]\n"
     ]
    }
   ],
   "source": [
    "print(final_df['Dalc'].unique())\n",
    "print(final_df['G3'].unique())\n",
    "%sql grade_alc << select Dalc as WorkdayConsumption, G3 as FinalGrade, count() as Count from final_df group by Dalc, G3\n",
    "print(grade_alc)"
   ]
  },
  {
   "cell_type": "code",
   "execution_count": 11,
   "id": "2a4b93ae",
   "metadata": {
    "scrolled": true
   },
   "outputs": [
    {
     "data": {
      "text/plain": [
       "[Text(0.5, 0, 'Weekday Alcohol Consumption'), Text(0, 0.5, 'Final Grade')]"
      ]
     },
     "execution_count": 11,
     "metadata": {},
     "output_type": "execute_result"
    },
    {
     "data": {
      "image/png": "[encoded data removed]",
      "text/plain": [
       "<Figure size 432x288 with 1 Axes>"
      ]
     },
     "metadata": {
      "needs_background": "light"
     },
     "output_type": "display_data"
    }
   ],
   "source": [
    "plot = sns.scatterplot(x=grade_alc['WorkdayConsumption'],y=grade_alc['FinalGrade'], size = grade_alc['Count'])\n",
    "plot.set(xlabel=\"Weekday Alcohol Consumption\",ylabel=\"Final Grade\")"
   ]
  },
  {
   "cell_type": "code",
   "execution_count": null,
   "id": "9c773d3c",
   "metadata": {},
   "outputs": [],
   "source": [
    "#side by side linear regression of consumption vs grades for math and portuguese sets\n",
    "#histogram for grades/consumption/absences"
   ]
  }
 ],
 "metadata": {
  "kernelspec": {
   "display_name": "Python 3 (ipykernel)",
   "language": "python",
   "name": "python3"
  },
  "language_info": {
   "codemirror_mode": {
    "name": "ipython",
    "version": 3
   },
   "file_extension": ".py",
   "mimetype": "text/x-python",
   "name": "python",
   "nbconvert_exporter": "python",
   "pygments_lexer": "ipython3",
   "version": "3.9.12"
  }
 },
 "nbformat": 4,
 "nbformat_minor": 5
}
