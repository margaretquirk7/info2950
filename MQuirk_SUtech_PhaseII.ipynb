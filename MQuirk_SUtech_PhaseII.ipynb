{
 "cells": [
  {
   "cell_type": "code",
   "execution_count": 1,
   "id": "653a6b04",
   "metadata": {},
   "outputs": [],
   "source": [
    "#import packages\n",
    "import numpy as np\n",
    "import pandas as pd\n"
   ]
  },
  {
   "cell_type": "code",
   "execution_count": 3,
   "id": "1d5a36c8",
   "metadata": {},
   "outputs": [
    {
     "name": "stdout",
     "output_type": "stream",
     "text": [
      "  school sex  age address famsize Pstatus  Medu  Fedu     Mjob      Fjob  ...  \\\n",
      "0     GP   F   18       U     GT3       A     4     4  at_home   teacher  ...   \n",
      "1     GP   F   17       U     GT3       T     1     1  at_home     other  ...   \n",
      "2     GP   F   15       U     LE3       T     1     1  at_home     other  ...   \n",
      "3     GP   F   15       U     GT3       T     4     2   health  services  ...   \n",
      "4     GP   F   16       U     GT3       T     3     3    other     other  ...   \n",
      "\n",
      "  famrel freetime  goout  Dalc  Walc health absences  G1  G2  G3  \n",
      "0      4        3      4     1     1      3        6   5   6   6  \n",
      "1      5        3      3     1     1      3        4   5   5   6  \n",
      "2      4        3      2     2     3      3       10   7   8  10  \n",
      "3      3        2      2     1     1      5        2  15  14  15  \n",
      "4      4        3      2     1     2      5        4   6  10  10  \n",
      "\n",
      "[5 rows x 33 columns]\n",
      "  school sex  age address famsize Pstatus  Medu  Fedu     Mjob      Fjob  ...  \\\n",
      "0     GP   F   18       U     GT3       A     4     4  at_home   teacher  ...   \n",
      "1     GP   F   17       U     GT3       T     1     1  at_home     other  ...   \n",
      "2     GP   F   15       U     LE3       T     1     1  at_home     other  ...   \n",
      "3     GP   F   15       U     GT3       T     4     2   health  services  ...   \n",
      "4     GP   F   16       U     GT3       T     3     3    other     other  ...   \n",
      "\n",
      "  famrel freetime  goout  Dalc  Walc health absences  G1  G2  G3  \n",
      "0      4        3      4     1     1      3        4   0  11  11  \n",
      "1      5        3      3     1     1      3        2   9  11  11  \n",
      "2      4        3      2     2     3      3        6  12  13  12  \n",
      "3      3        2      2     1     1      5        0  14  14  14  \n",
      "4      4        3      2     1     2      5        0  11  13  13  \n",
      "\n",
      "[5 rows x 33 columns]\n"
     ]
    }
   ],
   "source": [
    "#read in csvs\n",
    "math = pd.read_csv(\"Maths.csv\")\n",
    "port = pd.read_csv(\"Portuguese.csv\")\n",
    "print(math.head())\n",
    "print(port.head())"
   ]
  },
  {
   "cell_type": "markdown",
   "id": "c85828de",
   "metadata": {},
   "source": [
    "## Data Cleaning\n",
    "In order to simplify the analysis process, we've added a column to each of the initial dataframes called \"Subject\" so that when we combine the dataframes, we can easily identify which data set and subject the information relates to.\n"
   ]
  },
  {
   "cell_type": "code",
   "execution_count": 10,
   "id": "380c569a",
   "metadata": {},
   "outputs": [
    {
     "name": "stdout",
     "output_type": "stream",
     "text": [
      "Columns match: proceed\n",
      "    school sex  age address famsize Pstatus  Medu  Fedu      Mjob      Fjob  \\\n",
      "0       GP   F   18       U     GT3       A     4     4   at_home   teacher   \n",
      "1       GP   F   17       U     GT3       T     1     1   at_home     other   \n",
      "2       GP   F   15       U     LE3       T     1     1   at_home     other   \n",
      "3       GP   F   15       U     GT3       T     4     2    health  services   \n",
      "4       GP   F   16       U     GT3       T     3     3     other     other   \n",
      "..     ...  ..  ...     ...     ...     ...   ...   ...       ...       ...   \n",
      "644     MS   F   19       R     GT3       T     2     3  services     other   \n",
      "645     MS   F   18       U     LE3       T     3     1   teacher  services   \n",
      "646     MS   F   18       U     GT3       T     1     1     other     other   \n",
      "647     MS   M   17       U     LE3       T     3     1  services  services   \n",
      "648     MS   M   18       R     LE3       T     3     2  services     other   \n",
      "\n",
      "     ... freetime goout  Dalc  Walc  health absences  G1  G2  G3 Subject  \n",
      "0    ...        3     4     1     1       3        6   5   6   6       M  \n",
      "1    ...        3     3     1     1       3        4   5   5   6       M  \n",
      "2    ...        3     2     2     3       3       10   7   8  10       M  \n",
      "3    ...        2     2     1     1       5        2  15  14  15       M  \n",
      "4    ...        3     2     1     2       5        4   6  10  10       M  \n",
      "..   ...      ...   ...   ...   ...     ...      ...  ..  ..  ..     ...  \n",
      "644  ...        4     2     1     2       5        4  10  11  10       P  \n",
      "645  ...        3     4     1     1       1        4  15  15  16       P  \n",
      "646  ...        1     1     1     1       5        6  11  12   9       P  \n",
      "647  ...        4     5     3     4       2        6  10  10  10       P  \n",
      "648  ...        4     1     3     4       5        4  10  11  11       P  \n",
      "\n",
      "[1044 rows x 34 columns]\n"
     ]
    }
   ],
   "source": [
    "#add subject column\n",
    "math['Subject'] = \"M\"\n",
    "port['Subject'] = 'P'\n",
    "#print(math.head())\n",
    "#print(port.head())\n",
    "\n",
    "#Check all columns match before concatenation\n",
    "if math.columns.tolist() == port.columns.tolist():\n",
    "    print(\"Columns match: proceed\")\n",
    "    final_df = pd.concat([math,port])\n",
    "    \n",
    "print(final_df)"
   ]
  },
  {
   "cell_type": "code",
   "execution_count": 15,
   "id": "1dfa7eed",
   "metadata": {},
   "outputs": [
    {
     "name": "stdout",
     "output_type": "stream",
     "text": [
      "school\n",
      "Number of nans: 0\n",
      "sex\n",
      "Number of nans: 0\n",
      "age\n",
      "Number of nans: 0\n",
      "address\n",
      "Number of nans: 0\n",
      "famsize\n",
      "Number of nans: 0\n",
      "Pstatus\n",
      "Number of nans: 0\n",
      "Medu\n",
      "Number of nans: 0\n",
      "Fedu\n",
      "Number of nans: 0\n",
      "Mjob\n",
      "Number of nans: 0\n",
      "Fjob\n",
      "Number of nans: 0\n",
      "reason\n",
      "Number of nans: 0\n",
      "guardian\n",
      "Number of nans: 0\n",
      "traveltime\n",
      "Number of nans: 0\n",
      "studytime\n",
      "Number of nans: 0\n",
      "failures\n",
      "Number of nans: 0\n",
      "schoolsup\n",
      "Number of nans: 0\n",
      "famsup\n",
      "Number of nans: 0\n",
      "paid\n",
      "Number of nans: 0\n",
      "activities\n",
      "Number of nans: 0\n",
      "nursery\n",
      "Number of nans: 0\n",
      "higher\n",
      "Number of nans: 0\n",
      "internet\n",
      "Number of nans: 0\n",
      "romantic\n",
      "Number of nans: 0\n",
      "famrel\n",
      "Number of nans: 0\n",
      "freetime\n",
      "Number of nans: 0\n",
      "goout\n",
      "Number of nans: 0\n",
      "Dalc\n",
      "Number of nans: 0\n",
      "Walc\n",
      "Number of nans: 0\n",
      "health\n",
      "Number of nans: 0\n",
      "absences\n",
      "Number of nans: 0\n",
      "G1\n",
      "Number of nans: 0\n",
      "G2\n",
      "Number of nans: 0\n",
      "G3\n",
      "Number of nans: 0\n",
      "Subject\n",
      "Number of nans: 0\n"
     ]
    }
   ],
   "source": [
    "#Check for null values in columns\n",
    "for i in final_df.columns:\n",
    "    print(i)\n",
    "    print(\"Number of nans:\", final_df[i].isnull().sum())"
   ]
  }
 ],
 "metadata": {
  "kernelspec": {
   "display_name": "Python 3 (ipykernel)",
   "language": "python",
   "name": "python3"
  },
  "language_info": {
   "codemirror_mode": {
    "name": "ipython",
    "version": 3
   },
   "file_extension": ".py",
   "mimetype": "text/x-python",
   "name": "python",
   "nbconvert_exporter": "python",
   "pygments_lexer": "ipython3",
   "version": "3.9.12"
  }
 },
 "nbformat": 4,
 "nbformat_minor": 5
}
